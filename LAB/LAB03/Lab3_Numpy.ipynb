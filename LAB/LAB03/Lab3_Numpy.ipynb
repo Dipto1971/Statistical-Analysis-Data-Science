{
  "nbformat": 4,
  "nbformat_minor": 0,
  "metadata": {
    "colab": {
      "provenance": [],
      "include_colab_link": true
    },
    "kernelspec": {
      "name": "python3",
      "display_name": "Python 3"
    },
    "language_info": {
      "name": "python"
    }
  },
  "cells": [
    {
      "cell_type": "markdown",
      "metadata": {
        "id": "view-in-github",
        "colab_type": "text"
      },
      "source": [
        "<a href=\"https://colab.research.google.com/github/Dipto1971/Statistical-Analysis-Data-Science-/blob/main/LAB/LAB03/Lab3_Numpy.ipynb\" target=\"_parent\"><img src=\"https://colab.research.google.com/assets/colab-badge.svg\" alt=\"Open In Colab\"/></a>"
      ]
    },
    {
      "cell_type": "markdown",
      "source": [
        "# Basics of NumPy Arrays"
      ],
      "metadata": {
        "id": "DgoO5Prgs5V0"
      }
    },
    {
      "cell_type": "code",
      "source": [
        "!pip install numpy"
      ],
      "metadata": {
        "colab": {
          "base_uri": "https://localhost:8080/"
        },
        "id": "g7WrclHGW3vx",
        "outputId": "2905ccdc-5ca1-4d05-8a4c-ca8481805762"
      },
      "execution_count": null,
      "outputs": [
        {
          "output_type": "stream",
          "name": "stdout",
          "text": [
            "Requirement already satisfied: numpy in /usr/local/lib/python3.10/dist-packages (1.26.4)\n"
          ]
        }
      ]
    },
    {
      "cell_type": "code",
      "source": [
        "import numpy as np"
      ],
      "metadata": {
        "id": "EwC3y3MUtL-T"
      },
      "execution_count": null,
      "outputs": []
    },
    {
      "cell_type": "markdown",
      "source": [
        "## Create NumPy arrays and inspect their attributes.\n",
        "\n",
        "Creating Arrays"
      ],
      "metadata": {
        "id": "ZVGcJJJ2tAJe"
      }
    },
    {
      "cell_type": "code",
      "execution_count": null,
      "metadata": {
        "colab": {
          "base_uri": "https://localhost:8080/"
        },
        "id": "JZQertF0qogi",
        "outputId": "ba901c71-38ca-4e1d-ca73-1607491e65ae"
      },
      "outputs": [
        {
          "output_type": "stream",
          "name": "stdout",
          "text": [
            "1D Array: [1 2 3 4 5]\n",
            "\n",
            "2D Array:\n",
            " [[1 2 3]\n",
            " [4 5 3]\n",
            " [7 8 9]]\n"
          ]
        }
      ],
      "source": [
        "# Create a 1D array from a list\n",
        "arr_1d = np.array([1, 2, 3, 4, 5])\n",
        "print(\"1D Array:\", arr_1d)\n",
        "\n",
        "# Create a 2D array from a nested list\n",
        "arr_2d = np.array([[1, 2, 3],\n",
        "                   [4, 5, 3],\n",
        "                   [7, 8, 9]])\n",
        "print(\"\\n2D Array:\\n\", arr_2d)\n"
      ]
    },
    {
      "cell_type": "markdown",
      "source": [
        "Inspecting Array Attributes"
      ],
      "metadata": {
        "id": "-kXik2gMtGQ1"
      }
    },
    {
      "cell_type": "code",
      "source": [
        "# Print the shape, size, and data type of arr_2d\n",
        "print(\"Shape:\", arr_2d.shape)\n",
        "print(\"Size:\", arr_2d.size)\n",
        "print(\"Data Type:\", arr_2d.dtype)\n"
      ],
      "metadata": {
        "colab": {
          "base_uri": "https://localhost:8080/"
        },
        "id": "9mdUIRrRtEAZ",
        "outputId": "85b67ccd-d37c-495b-f9f3-cae3796c59e2"
      },
      "execution_count": null,
      "outputs": [
        {
          "output_type": "stream",
          "name": "stdout",
          "text": [
            "Shape: (3, 3)\n",
            "Size: 9\n",
            "Data Type: int64\n"
          ]
        }
      ]
    },
    {
      "cell_type": "markdown",
      "source": [
        "# Array Creation Techniques\n",
        "Objective: Explore different ways to create arrays in NumPy."
      ],
      "metadata": {
        "id": "K3KI4UoTtyu1"
      }
    },
    {
      "cell_type": "code",
      "source": [
        "# Create an array filled with zeros\n",
        "zeros = np.zeros((3, 3))\n",
        "print(\"Zeros:\\n\", zeros)\n",
        "\n",
        "# Create an array filled with ones\n",
        "ones = np.ones((3, 3))\n",
        "print(\"\\nOnes:\\n\", ones)\n",
        "\n",
        "# Create an array with a range of elements\n",
        "range_array = np.arange(20)\n",
        "print(\"\\nRange Array:\", range_array)\n",
        "print(\"\\nDtype:\",range_array.dtype)\n",
        "print(\"Dtype:\",zeros.dtype)"
      ],
      "metadata": {
        "colab": {
          "base_uri": "https://localhost:8080/"
        },
        "id": "RYb_m83ntIOR",
        "outputId": "4e171c25-3a77-41f9-f57e-8df67d4dda6f"
      },
      "execution_count": null,
      "outputs": [
        {
          "output_type": "stream",
          "name": "stdout",
          "text": [
            "Zeros:\n",
            " [[0. 0. 0.]\n",
            " [0. 0. 0.]\n",
            " [0. 0. 0.]]\n",
            "\n",
            "Ones:\n",
            " [[1. 1. 1.]\n",
            " [1. 1. 1.]\n",
            " [1. 1. 1.]]\n",
            "\n",
            "Range Array: [ 0  1  2  3  4  5  6  7  8  9 10 11 12 13 14 15 16 17 18 19]\n",
            "\n",
            "Dtype: int64\n",
            "Dtype: float64\n"
          ]
        }
      ]
    },
    {
      "cell_type": "markdown",
      "source": [
        "## Reshaping and Flattening Arrays\n",
        "\n",
        "Objective: Modify the shape of arrays without changing their data."
      ],
      "metadata": {
        "id": "-ij_jTM7t6zq"
      }
    },
    {
      "cell_type": "code",
      "source": [
        "# Reshape arr_2d to 3x2\n",
        "arr_2d = np.array([[1, 2, 3],\n",
        "                   [4, 5, 6]])\n",
        "reshaped = arr_2d.reshape((3, 2))\n",
        "print(\"Reshaped to 3x2:\\n\", reshaped)\n",
        "\n",
        "# Flatten arr_2d to a 1D array\n",
        "flattened = arr_2d.flatten()\n",
        "print(\"\\nFlattened Array:\", flattened)\n"
      ],
      "metadata": {
        "colab": {
          "base_uri": "https://localhost:8080/"
        },
        "id": "pOwWEY0qt1RJ",
        "outputId": "72b760de-c366-4034-a7a9-6a6fb8dd0387"
      },
      "execution_count": null,
      "outputs": [
        {
          "output_type": "stream",
          "name": "stdout",
          "text": [
            "Reshaped to 3x2:\n",
            " [[1 2]\n",
            " [3 4]\n",
            " [5 6]]\n",
            "\n",
            "Flattened Array: [1 2 3 4 5 6]\n"
          ]
        }
      ]
    },
    {
      "cell_type": "markdown",
      "source": [
        "## Concatenating and Splitting Arrays\n",
        "\n",
        "Objective: Learn to combine and divide arrays."
      ],
      "metadata": {
        "id": "nAuPQkw2uC_k"
      }
    },
    {
      "cell_type": "code",
      "source": [
        "# Concatenate arr_1d and a new array\n",
        "arr_3 = np.array([6, 7, 8, 9, 10])\n",
        "concatenated = np.concatenate([arr_1d, arr_3])\n",
        "print(\"Concatenated Array:\", concatenated)\n",
        "\n",
        "# Split concatenated array into three parts\n",
        "split = np.split(concatenated, [2,5, 8])\n",
        "print(\"\\nSplit Array:\", split)\n"
      ],
      "metadata": {
        "colab": {
          "base_uri": "https://localhost:8080/"
        },
        "id": "cooUBvo_t-hc",
        "outputId": "0cdabb27-b967-40f0-8f49-38473a61e435"
      },
      "execution_count": null,
      "outputs": [
        {
          "output_type": "stream",
          "name": "stdout",
          "text": [
            "Concatenated Array: [ 1  2  3  4  5  6  7  8  9 10]\n",
            "\n",
            "Split Array: [array([1, 2]), array([3, 4, 5]), array([6, 7, 8]), array([ 9, 10])]\n"
          ]
        }
      ]
    },
    {
      "cell_type": "markdown",
      "source": [
        "# Linear Algebra and Statistical Operations\n",
        "\n",
        "## Matrix Operations\n",
        "\n",
        "Objective: Perform basic linear algebra operations."
      ],
      "metadata": {
        "id": "ClHF_JaMuIeX"
      }
    },
    {
      "cell_type": "code",
      "source": [
        "# Matrix multiplication\n",
        "A = np.array([[1, 2], [3, 4]])\n",
        "B = np.array([[5, 6], [7, 8]])\n",
        "product = np.dot(A, B)\n",
        "print(\"Matrix Product:\\n\", product)\n",
        "\n",
        "# Find the determinant of A\n",
        "det_A = np.linalg.det(A)\n",
        "print(\"\\nDeterminant of A:\", det_A)\n",
        "\n",
        "C = A * B\n",
        "D = A + B\n",
        "print(C)\n",
        "print(D)\n"
      ],
      "metadata": {
        "colab": {
          "base_uri": "https://localhost:8080/"
        },
        "id": "t8guEO3ouFDD",
        "outputId": "0f4aa769-c8b0-48c3-c9ff-52c959a4adab"
      },
      "execution_count": null,
      "outputs": [
        {
          "output_type": "stream",
          "name": "stdout",
          "text": [
            "Matrix Product:\n",
            " [[19 22]\n",
            " [43 50]]\n",
            "\n",
            "Determinant of A: -2.0000000000000004\n",
            "[[ 5 12]\n",
            " [21 32]]\n",
            "[[ 6  8]\n",
            " [10 12]]\n"
          ]
        }
      ]
    },
    {
      "cell_type": "markdown",
      "source": [
        "## Statistical Analysis\n",
        "\n",
        "Objective: Apply statistical methods to analyze data."
      ],
      "metadata": {
        "id": "ZErRvZ1juPEq"
      }
    },
    {
      "cell_type": "code",
      "source": [
        "# Calculate mean, median, and standard deviation\n",
        "data = np.array([1, 2, 3, 4, 5, 6, 7, 8, 9, 10])\n",
        "print(\"Mean:\", np.mean(data))\n",
        "print(\"Median:\", np.median(data))\n",
        "print(\"Standard Deviation:\", np.std(data))\n",
        "print(\"Variance\", np.var(data))\n",
        "\n",
        "# Find unique elements and their counts\n",
        "unique_elements, counts = np.unique(data, return_counts=True)\n",
        "print(\"\\nUnique Elements:\", unique_elements)\n",
        "print(\"Counts:\", counts)\n"
      ],
      "metadata": {
        "colab": {
          "base_uri": "https://localhost:8080/"
        },
        "id": "_JU0pDBAuMqr",
        "outputId": "e7f43060-ff24-4576-cb67-260e4688bbdc"
      },
      "execution_count": null,
      "outputs": [
        {
          "output_type": "stream",
          "name": "stdout",
          "text": [
            "Mean: 5.454545454545454\n",
            "Median: 5.0\n",
            "Standard Deviation: 2.7423823870906103\n",
            "Variance 7.520661157024794\n",
            "\n",
            "Unique Elements: [ 1  2  3  4  5  6  7  8  9 10]\n",
            "Counts: [1 1 1 1 2 1 1 1 1 1]\n"
          ]
        }
      ]
    },
    {
      "cell_type": "markdown",
      "source": [
        "## Uniform Distribution\n",
        "\n",
        "The uniform distribution is perhaps the simplest type of distribution, representing an equal probability of all values in a specified range."
      ],
      "metadata": {
        "id": "2e3E0U28tgET"
      }
    },
    {
      "cell_type": "code",
      "source": [
        "import numpy as np\n",
        "\n",
        "# Generate 10 random numbers from a uniform distribution between 0 and 1\n",
        "uniform_data = np.random.rand(10)\n",
        "\n",
        "# Generate 10 random numbers from a uniform distribution between 10 and 20\n",
        "uniform_data_scaled = np.random.uniform(10, 20, 10)\n",
        "\n",
        "print(\"Uniform distribution [0, 1):\")\n",
        "print(uniform_data)\n",
        "print(\"\\nUniform distribution [10, 20):\")\n",
        "print(uniform_data_scaled)\n"
      ],
      "metadata": {
        "id": "IxlZ1aNcuQ-_",
        "colab": {
          "base_uri": "https://localhost:8080/"
        },
        "outputId": "452263fa-e039-4e1b-86b6-222fd7a91443"
      },
      "execution_count": null,
      "outputs": [
        {
          "output_type": "stream",
          "name": "stdout",
          "text": [
            "Uniform distribution [0, 1):\n",
            "[0.61054603 0.69398163 0.78181117 0.34012906 0.33194316 0.49473541\n",
            " 0.7014058  0.72267783 0.48713573 0.50805104]\n",
            "\n",
            "Uniform distribution [10, 20):\n",
            "[18.35005132 13.8311361  16.72291384 16.40058193 10.89350574 17.25282383\n",
            " 10.19224785 14.59576301 15.38165575 15.31169579]\n"
          ]
        }
      ]
    },
    {
      "cell_type": "markdown",
      "source": [
        "## Normal (Gaussian) Distribution\n",
        "\n",
        "The normal distribution is a common continuous probability distribution, often used in the natural and social sciences to represent real-valued random variables whose distributions are not known."
      ],
      "metadata": {
        "id": "qHsLbex5t13k"
      }
    },
    {
      "cell_type": "code",
      "source": [
        "# Generate 10 random numbers from a normal distribution with mean=0 and std=1\n",
        "normal_data = np.random.randn(10)\n",
        "\n",
        "# Generate 10 random numbers from a normal distribution with mean=50 and std=10\n",
        "normal_data_scaled = np.random.normal(50, 10, 10)\n",
        "\n",
        "print(\"Standard normal distribution (mean=0, std=1):\")\n",
        "print(normal_data)\n",
        "print(\"\\nNormal distribution (mean=50, std=10):\")\n",
        "print(normal_data_scaled)\n"
      ],
      "metadata": {
        "colab": {
          "base_uri": "https://localhost:8080/"
        },
        "id": "c4kVX-eytkdZ",
        "outputId": "422d4746-913a-4c96-f116-0213f515f64f"
      },
      "execution_count": null,
      "outputs": [
        {
          "output_type": "stream",
          "name": "stdout",
          "text": [
            "Standard normal distribution (mean=0, std=1):\n",
            "[ 0.27878195 -0.13359755  0.76475988  0.4284979  -1.04478382 -2.06997174\n",
            "  1.05728752 -0.93155364 -0.7014351  -0.20355003]\n",
            "\n",
            "Normal distribution (mean=50, std=10):\n",
            "[39.9229263  54.47479338 50.86419886 47.10292516 40.55434365 63.41687737\n",
            " 33.97963071 54.99913683 56.75814766 56.41128231]\n"
          ]
        }
      ]
    },
    {
      "cell_type": "markdown",
      "source": [
        "## Binomial Distribution\n",
        "\n",
        "The binomial distribution represents the number of successes in a sequence of independent experiments."
      ],
      "metadata": {
        "id": "rOKBbQpuuBny"
      }
    },
    {
      "cell_type": "code",
      "source": [
        "# Generate 10 random numbers from a binomial distribution with n=10 and p=0.5\n",
        "binomial_data = np.random.binomial(n=10, p=0.5, size=10)\n",
        "\n",
        "print(\"Binomial distribution (n=10, p=0.5):\")\n",
        "print(binomial_data)\n"
      ],
      "metadata": {
        "colab": {
          "base_uri": "https://localhost:8080/"
        },
        "id": "g9VKj0jit_HA",
        "outputId": "93290193-9ae2-455c-e434-c4146b8a87f9"
      },
      "execution_count": null,
      "outputs": [
        {
          "output_type": "stream",
          "name": "stdout",
          "text": [
            "Binomial distribution (n=10, p=0.5):\n",
            "[4 7 4 3 3 1 2 1 4 4]\n"
          ]
        }
      ]
    },
    {
      "cell_type": "markdown",
      "source": [
        "## Poisson Distribution\n",
        "The Poisson distribution is a discrete distribution that expresses the probability of a given number of events occurring in a fixed interval of time or space."
      ],
      "metadata": {
        "id": "e-wBmZGauLQT"
      }
    },
    {
      "cell_type": "code",
      "source": [
        "# Generate 10 random numbers from a Poisson distribution with lambda=3\n",
        "poisson_data = np.random.poisson(lam=3, size=10)\n",
        "\n",
        "print(\"Poisson distribution (lambda=3):\")\n",
        "print(poisson_data)\n"
      ],
      "metadata": {
        "colab": {
          "base_uri": "https://localhost:8080/"
        },
        "id": "Mibs3XEIuGQH",
        "outputId": "95ef996b-6441-471a-ed56-925f7de58c32"
      },
      "execution_count": null,
      "outputs": [
        {
          "output_type": "stream",
          "name": "stdout",
          "text": [
            "Poisson distribution (lambda=3):\n",
            "[5 1 3 3 1 6 4 3 0 2]\n"
          ]
        }
      ]
    },
    {
      "cell_type": "markdown",
      "source": [
        "## Customizing Random Number Generation\n",
        "NumPy's random module also supports seeding the random number generator, which can be useful for creating reproducible results during testing or analysis."
      ],
      "metadata": {
        "id": "TxFw-VquuVCc"
      }
    },
    {
      "cell_type": "code",
      "source": [
        "# Seed the random number generator for reproducibility\n",
        "np.random.seed(42)\n",
        "\n",
        "# Now, generate random numbers as before\n",
        "uniform_data_seeded = np.random.rand(5)\n",
        "print(\"Uniform distribution with seed (42):\")\n",
        "print(uniform_data_seeded)\n"
      ],
      "metadata": {
        "colab": {
          "base_uri": "https://localhost:8080/"
        },
        "id": "AktUGcu2uN-y",
        "outputId": "a1f4603a-f16f-48f8-efd8-bff4b3f2f76c"
      },
      "execution_count": null,
      "outputs": [
        {
          "output_type": "stream",
          "name": "stdout",
          "text": [
            "Uniform distribution with seed (42):\n",
            "[0.37454012 0.95071431 0.73199394 0.59865848 0.15601864]\n"
          ]
        }
      ]
    },
    {
      "cell_type": "markdown",
      "source": [
        "# Show the value of Uniform distribution\n",
        "take the distribution size as input\n",
        "\n",
        "then take the range of value from input\n",
        "\n",
        "a = ?\n",
        "\n",
        "b = ?\n",
        "\n",
        "size = ?"
      ],
      "metadata": {
        "id": "dRo0eBMxxQb2"
      }
    },
    {
      "cell_type": "code",
      "source": [
        "a = int(input(\"Enter the value of a:\"))\n",
        "b = int(input(\"Enter the value of b:\"))\n",
        "size = int(input(\"Enter the value of size:\"))\n",
        "\n",
        "array_1d = np.random.uniform(a,b,size)\n",
        "print(array_1d)"
      ],
      "metadata": {
        "colab": {
          "base_uri": "https://localhost:8080/"
        },
        "id": "hE_jWkVCxQOe",
        "outputId": "e8f0a961-b96e-4abe-ac3f-4e4506b95905"
      },
      "execution_count": null,
      "outputs": [
        {
          "output_type": "stream",
          "name": "stdout",
          "text": [
            "Enter the value of a:10\n",
            "Enter the value of b:20\n",
            "Enter the value of size:10\n",
            "[14.28344992 17.49710295 19.75644676 19.80431698 15.88880132 10.88801231\n",
            " 15.03629134 15.7900935  19.0933196  14.25883278]\n"
          ]
        }
      ]
    },
    {
      "cell_type": "code",
      "source": [
        "# Using gaussian distribution\n",
        "gaussian_data = np.random.normal(loc= 0.0, scale= 1.0, size=20)\n",
        "\n",
        "print(\"Normal Distribuition: \")\n",
        "print(gaussian_data)"
      ],
      "metadata": {
        "id": "dAO_VJwzuX64",
        "colab": {
          "base_uri": "https://localhost:8080/"
        },
        "outputId": "d37e5c96-fac5-4022-972d-78890da0799e"
      },
      "execution_count": null,
      "outputs": [
        {
          "output_type": "stream",
          "name": "stdout",
          "text": [
            "Normal Distribuition: \n",
            "[ 1.27222789 -0.20147212 -2.87603641 -0.04882038 -0.5128784   0.45772305\n",
            " -1.77671676  0.3986406   0.55913624  0.23670946 -0.88880795  1.33217251\n",
            "  0.17741896  0.25945445  0.47502271 -0.37586952  1.59910869 -0.51403163\n",
            " -0.20799372 -2.09533812]\n"
          ]
        }
      ]
    }
  ]
}
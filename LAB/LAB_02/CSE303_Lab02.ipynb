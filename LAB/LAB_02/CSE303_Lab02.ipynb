{
  "cells": [
    {
      "cell_type": "markdown",
      "metadata": {
        "id": "view-in-github",
        "colab_type": "text"
      },
      "source": [
        "<a href=\"https://colab.research.google.com/github/Dipto1971/Statistical-Analysis-Data-Science-/blob/main/LAB/LAB_02/CSE303_Lab02.ipynb\" target=\"_parent\"><img src=\"https://colab.research.google.com/assets/colab-badge.svg\" alt=\"Open In Colab\"/></a>"
      ]
    },
    {
      "cell_type": "code",
      "execution_count": null,
      "metadata": {
        "colab": {
          "base_uri": "https://localhost:8080/"
        },
        "id": "RW79hUegQtHv",
        "outputId": "3eb2ba7e-4989-4393-9e55-11d33c14946e"
      },
      "outputs": [
        {
          "name": "stdout",
          "output_type": "stream",
          "text": [
            "The average of 10 and 20 is 15.0\n",
            "John\n",
            "Jane\n",
            "Joe\n"
          ]
        }
      ],
      "source": [
        "# define a function that will take two numbers and return their average\n",
        "\n",
        "def func_AVG(num1, num2):\n",
        "    avg = (num1 + num2) / 2\n",
        "    print(f\"The average of {num1} and {num2} is {avg}\")\n",
        "\n",
        "func_AVG(10, 20)\n",
        "\n",
        "def print_student_details(list_names):\n",
        "  for std_name in list_names:\n",
        "    print(std_name)\n",
        "\n",
        "list_names = [\"John\", \"Jane\", \"Joe\"]\n",
        "print_student_details(list_names)"
      ]
    },
    {
      "cell_type": "code",
      "execution_count": null,
      "metadata": {
        "colab": {
          "base_uri": "https://localhost:8080/"
        },
        "id": "A4kF4jv4T76D",
        "outputId": "61cce779-a444-414e-8a20-f67634c3650c"
      },
      "outputs": [
        {
          "output_type": "stream",
          "name": "stdout",
          "text": [
            "Enter the number of employees: 1\n",
            "Enter the employee-1 ID: 22\n",
            "Enter the employee-1 name: jj\n",
            "Enter the employee-1 salary: 00\n",
            "{'ID': [22], 'Name': ['jj'], 'Salary': [0.0]}\n"
          ]
        }
      ],
      "source": [
        "dict_emp = {}\n",
        "list_emp_id = []\n",
        "list_emp_name = []\n",
        "list_emp_salary = []\n",
        "\n",
        "num_emp = int(input(\"Enter the number of employees: \"))\n",
        "\n",
        "for i in range(num_emp):\n",
        "  emp_id = int(input(f\"Enter the employee-{i+1} ID: \"))\n",
        "  emp_name = input(f\"Enter the employee-{i+1} name: \")\n",
        "  emp_salary = float(input(f\"Enter the employee-{i+1} salary: \"))\n",
        "\n",
        "  list_emp_id.append(emp_id)\n",
        "  list_emp_name.append(emp_name)\n",
        "  list_emp_salary.append(emp_salary)\n",
        "\n",
        "dict_emp[\"ID\"] = list_emp_id\n",
        "dict_emp[\"Name\"] = list_emp_name\n",
        "dict_emp[\"Salary\"] = list_emp_salary\n",
        "\n",
        "print(dict_emp)"
      ]
    },
    {
      "cell_type": "code",
      "execution_count": null,
      "metadata": {
        "colab": {
          "background_save": true
        },
        "id": "OJ-XL3UGWXE5",
        "outputId": "c9fdb169-92fb-4590-ea64-f000b7f38725"
      },
      "outputs": [
        {
          "ename": "KeyboardInterrupt",
          "evalue": "Interrupted by user",
          "output_type": "error",
          "traceback": [
            "\u001b[0;31m---------------------------------------------------------------------------\u001b[0m",
            "\u001b[0;31mKeyboardInterrupt\u001b[0m                         Traceback (most recent call last)",
            "\u001b[0;32m<ipython-input-11-c99ac365afb0>\u001b[0m in \u001b[0;36m<cell line: 26>\u001b[0;34m()\u001b[0m\n\u001b[1;32m     24\u001b[0m     \u001b[0mprint\u001b[0m\u001b[0;34m(\u001b[0m\u001b[0;34mf\"{key}: {value}\"\u001b[0m\u001b[0;34m)\u001b[0m\u001b[0;34m\u001b[0m\u001b[0;34m\u001b[0m\u001b[0m\n\u001b[1;32m     25\u001b[0m \u001b[0;34m\u001b[0m\u001b[0m\n\u001b[0;32m---> 26\u001b[0;31m \u001b[0mnum_emp\u001b[0m \u001b[0;34m=\u001b[0m \u001b[0mint\u001b[0m\u001b[0;34m(\u001b[0m\u001b[0minput\u001b[0m\u001b[0;34m(\u001b[0m\u001b[0;34m\"Enter the number of employees: \"\u001b[0m\u001b[0;34m)\u001b[0m\u001b[0;34m)\u001b[0m\u001b[0;34m\u001b[0m\u001b[0;34m\u001b[0m\u001b[0m\n\u001b[0m\u001b[1;32m     27\u001b[0m \u001b[0mdict_emp\u001b[0m \u001b[0;34m=\u001b[0m \u001b[0minput_employee\u001b[0m\u001b[0;34m(\u001b[0m\u001b[0mnum_emp\u001b[0m\u001b[0;34m)\u001b[0m\u001b[0;34m\u001b[0m\u001b[0;34m\u001b[0m\u001b[0m\n\u001b[1;32m     28\u001b[0m \u001b[0mprint_employee\u001b[0m\u001b[0;34m(\u001b[0m\u001b[0mdict_emp\u001b[0m\u001b[0;34m)\u001b[0m\u001b[0;34m\u001b[0m\u001b[0;34m\u001b[0m\u001b[0m\n",
            "\u001b[0;32m/usr/local/lib/python3.10/dist-packages/ipykernel/kernelbase.py\u001b[0m in \u001b[0;36mraw_input\u001b[0;34m(self, prompt)\u001b[0m\n\u001b[1;32m    849\u001b[0m                 \u001b[0;34m\"raw_input was called, but this frontend does not support input requests.\"\u001b[0m\u001b[0;34m\u001b[0m\u001b[0;34m\u001b[0m\u001b[0m\n\u001b[1;32m    850\u001b[0m             )\n\u001b[0;32m--> 851\u001b[0;31m         return self._input_request(str(prompt),\n\u001b[0m\u001b[1;32m    852\u001b[0m             \u001b[0mself\u001b[0m\u001b[0;34m.\u001b[0m\u001b[0m_parent_ident\u001b[0m\u001b[0;34m,\u001b[0m\u001b[0;34m\u001b[0m\u001b[0;34m\u001b[0m\u001b[0m\n\u001b[1;32m    853\u001b[0m             \u001b[0mself\u001b[0m\u001b[0;34m.\u001b[0m\u001b[0m_parent_header\u001b[0m\u001b[0;34m,\u001b[0m\u001b[0;34m\u001b[0m\u001b[0;34m\u001b[0m\u001b[0m\n",
            "\u001b[0;32m/usr/local/lib/python3.10/dist-packages/ipykernel/kernelbase.py\u001b[0m in \u001b[0;36m_input_request\u001b[0;34m(self, prompt, ident, parent, password)\u001b[0m\n\u001b[1;32m    893\u001b[0m             \u001b[0;32mexcept\u001b[0m \u001b[0mKeyboardInterrupt\u001b[0m\u001b[0;34m:\u001b[0m\u001b[0;34m\u001b[0m\u001b[0;34m\u001b[0m\u001b[0m\n\u001b[1;32m    894\u001b[0m                 \u001b[0;31m# re-raise KeyboardInterrupt, to truncate traceback\u001b[0m\u001b[0;34m\u001b[0m\u001b[0;34m\u001b[0m\u001b[0m\n\u001b[0;32m--> 895\u001b[0;31m                 \u001b[0;32mraise\u001b[0m \u001b[0mKeyboardInterrupt\u001b[0m\u001b[0;34m(\u001b[0m\u001b[0;34m\"Interrupted by user\"\u001b[0m\u001b[0;34m)\u001b[0m \u001b[0;32mfrom\u001b[0m \u001b[0;32mNone\u001b[0m\u001b[0;34m\u001b[0m\u001b[0;34m\u001b[0m\u001b[0m\n\u001b[0m\u001b[1;32m    896\u001b[0m             \u001b[0;32mexcept\u001b[0m \u001b[0mException\u001b[0m \u001b[0;32mas\u001b[0m \u001b[0me\u001b[0m\u001b[0;34m:\u001b[0m\u001b[0;34m\u001b[0m\u001b[0;34m\u001b[0m\u001b[0m\n\u001b[1;32m    897\u001b[0m                 \u001b[0mself\u001b[0m\u001b[0;34m.\u001b[0m\u001b[0mlog\u001b[0m\u001b[0;34m.\u001b[0m\u001b[0mwarning\u001b[0m\u001b[0;34m(\u001b[0m\u001b[0;34m\"Invalid Message:\"\u001b[0m\u001b[0;34m,\u001b[0m \u001b[0mexc_info\u001b[0m\u001b[0;34m=\u001b[0m\u001b[0;32mTrue\u001b[0m\u001b[0;34m)\u001b[0m\u001b[0;34m\u001b[0m\u001b[0;34m\u001b[0m\u001b[0m\n",
            "\u001b[0;31mKeyboardInterrupt\u001b[0m: Interrupted by user"
          ]
        }
      ],
      "source": [
        "def input_employee(num_emp):\n",
        "  dict_emp = {}\n",
        "  list_emp_id = []\n",
        "  list_emp_name = []\n",
        "  list_emp_salary = []\n",
        "\n",
        "  for i in range(num_emp):\n",
        "    emp_id = int(input(f\"Enter the employee-{i+1} ID: \"))\n",
        "    emp_name = input(f\"Enter the employee-{i+1} name: \")\n",
        "    emp_salary = float(input(f\"Enter the employee-{i+1} salary: \"))\n",
        "\n",
        "    list_emp_id.append(emp_id)\n",
        "    list_emp_name.append(emp_name)\n",
        "    list_emp_salary.append(emp_salary)\n",
        "\n",
        "  dict_emp[\"ID\"] = list_emp_id\n",
        "  dict_emp[\"Name\"] = list_emp_name\n",
        "  dict_emp[\"Salary\"] = list_emp_salary\n",
        "\n",
        "  return dict_emp\n",
        "\n",
        "def print_employee(dict_emp):\n",
        "  for key, value in dict_emp.items():\n",
        "    print(f\"{key}: {value}\")\n",
        "\n",
        "num_emp = int(input(\"Enter the number of employees: \"))\n",
        "dict_emp = input_employee(num_emp)\n",
        "print_employee(dict_emp)"
      ]
    },
    {
      "cell_type": "code",
      "execution_count": null,
      "metadata": {
        "id": "KQbP2lz1Z7Tm"
      },
      "outputs": [],
      "source": [
        "# will check the type of value and then search using id then change the value\n",
        "\n",
        "def update_employee(dict_emp, key, value):\n",
        "  for i in range(len(dict_emp[key])):\n",
        "    if dict_emp[\"ID\"][i] == key:\n",
        "      dict_emp[key][i] = value\n",
        "      break\n",
        "      return dict_emp\n",
        "\n",
        "dict_emp = {\n",
        "  \"ID\": [1, 2, 3],\n",
        "  \"Name\": [\"John\", \"Jane\", \"Joe\"],\n",
        "  \"Salary\": [1000, 2000, 3000]\n",
        "}\n",
        "\n"
      ]
    },
    {
      "cell_type": "code",
      "execution_count": null,
      "metadata": {
        "id": "pzP7YYBncljr",
        "colab": {
          "base_uri": "https://localhost:8080/"
        },
        "outputId": "5cc79820-2786-4269-8272-8d6936b6e2ca"
      },
      "outputs": [
        {
          "output_type": "stream",
          "name": "stdout",
          "text": [
            "['Apple', 'Banana', 'Cherry']\n",
            "Banana\n",
            "['Apple', 'Banana', 'Strawberry']\n",
            "['Apple', 'Banana', 'Strawberry', 'Orange']\n",
            "['Apple', 'Lemon', 'Banana', 'Strawberry', 'Orange']\n",
            "['Apple', 'Lemon', 'Strawberry', 'Orange']\n",
            "Apple\n",
            "Lemon\n",
            "Strawberry\n",
            "Orange\n"
          ]
        }
      ],
      "source": [
        "# create a list named fruits containing some data\n",
        "list_fruits = [\"Apple\", \"Banana\", \"Cherry\"]\n",
        "print(list_fruits)\n",
        "\n",
        "#Access and print the second item in the list\n",
        "print(list_fruits[1])\n",
        "\n",
        "# Change the value of the third item to \"Strawberry\"\n",
        "updated_value = \"Strawberry\"\n",
        "list_fruits[2] = updated_value\n",
        "\n",
        "print(list_fruits)\n",
        "\n",
        "# Add \"Orange\"\n",
        "list_fruits.append(\"Orange\")\n",
        "print(list_fruits)\n",
        "\n",
        "# Insert \"Lemon\" as the second item\n",
        "list_fruits.insert(1, \"Lemon\")\n",
        "print(list_fruits)\n",
        "\n",
        "# Remove \"Banana\"\n",
        "list_fruits.remove(\"Banana\")\n",
        "print(list_fruits)\n",
        "\n",
        "# Use a loop to print each item in the list\n",
        "for i in range (len(list_fruits)):\n",
        "  print(list_fruits[i])\n"
      ]
    },
    {
      "cell_type": "code",
      "source": [
        "# Create a dict named person with keys and values\n",
        "dict_person = {\n",
        "    'Name' : \"John\",\n",
        "    'Age' : 30,\n",
        "    'City' : 'New York'\n",
        "}\n",
        "print(dict_person)\n",
        "\n",
        "# Access and print the value associated with name\n",
        "print(dict_person['Name'])\n",
        "\n",
        "# Change the city value to Los Angeles\n",
        "changed = \"Los Angeles\"\n",
        "dict_person['City'] = changed\n",
        "print(dict_person)\n",
        "\n",
        "# Add a new key-value pair\n",
        "dict_person['Occupation'] = \"Engineer\"\n",
        "print(dict_person)\n",
        "\n",
        "# Remove the key-value pair \"Age\"\n",
        "dict_person.pop('Age')\n",
        "\n",
        "# Use a loop to print each key and its value\n",
        "for key, value in dict_person.items():\n",
        "    print(f\"{key}: {value}\")\n"
      ],
      "metadata": {
        "colab": {
          "base_uri": "https://localhost:8080/"
        },
        "id": "BznhaiwKfkmL",
        "outputId": "fe1b16ff-6455-443d-affc-253f9382b905"
      },
      "execution_count": null,
      "outputs": [
        {
          "output_type": "stream",
          "name": "stdout",
          "text": [
            "{'Name': 'John', 'Age': 30, 'City': 'New York'}\n",
            "John\n",
            "{'Name': 'John', 'Age': 30, 'City': 'Los Angeles'}\n",
            "{'Name': 'John', 'Age': 30, 'City': 'Los Angeles', 'Occupation': 'Engineer'}\n",
            "Name: John\n",
            "City: Los Angeles\n",
            "Occupation: Engineer\n"
          ]
        }
      ]
    },
    {
      "cell_type": "code",
      "source": [
        "# Define the greet function\n",
        "def greet(name):\n",
        "    print(f\"Hello, {name}\")\n",
        "\n",
        "# Call the greet function\n",
        "greet(\"Dipto\")\n",
        "\n",
        "# Define the add function\n",
        "def add(a, b):\n",
        "    return a + b\n",
        "result = add(5, 3)\n",
        "print(f\"The sum is: {result}\")\n",
        "\n",
        "# Define the multiply_list function\n",
        "def multiply_list(numbers, value):\n",
        "    return [num * value for num in numbers]\n",
        "\n",
        "# Call the multiply_list function with a list and print the result\n",
        "numbers = [2, 3, 5]\n",
        "multiplied_numbers = multiply_list(numbers, 100)\n",
        "print(f\"Multiplied list: {multiplied_numbers}\")\n",
        "\n",
        "# Define the update_person_age function\n",
        "def update_person_age(person, new_age):\n",
        "    person['Age'] = new_age\n",
        "    return person\n",
        "\n",
        "# Call the update_person_age function with a person dictionary and a new age, and print the updated dictionary\n",
        "person = {'Name': 'Dipto', 'Age': 30, 'City': 'New York'}\n",
        "updated_person = update_person_age(person, 65)\n",
        "print(f\"Updated person: {updated_person}\")\n",
        "\n",
        "print(multiply_list([2,3,5], 100))\n",
        "print(update_person_age(dict_person, 65))\n"
      ],
      "metadata": {
        "colab": {
          "base_uri": "https://localhost:8080/"
        },
        "id": "njcEbGysiWd3",
        "outputId": "b7e059f9-3dd7-463d-c148-3022df7a9ff9"
      },
      "execution_count": null,
      "outputs": [
        {
          "output_type": "stream",
          "name": "stdout",
          "text": [
            "Hello, Dipto\n",
            "The sum is: 8\n",
            "Multiplied list: [200, 300, 500]\n",
            "Updated person: {'Name': 'Dipto', 'Age': 65, 'City': 'New York'}\n",
            "[200, 300, 500]\n",
            "{'Name': 'John', 'City': 'Los Angeles', 'Occupation': 'Engineer', 'Age': 65}\n"
          ]
        }
      ]
    },
    {
      "cell_type": "code",
      "source": [],
      "metadata": {
        "id": "80TaN-bvio5F"
      },
      "execution_count": null,
      "outputs": []
    }
  ],
  "metadata": {
    "colab": {
      "provenance": [],
      "authorship_tag": "ABX9TyN7pIokgsDEdPFNTyK5uf1y",
      "include_colab_link": true
    },
    "kernelspec": {
      "display_name": "Python 3",
      "name": "python3"
    },
    "language_info": {
      "name": "python"
    }
  },
  "nbformat": 4,
  "nbformat_minor": 0
}